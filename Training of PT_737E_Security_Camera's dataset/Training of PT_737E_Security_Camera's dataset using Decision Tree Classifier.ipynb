{
 "cells": [
  {
   "cell_type": "code",
   "execution_count": 1,
   "id": "344f5b42",
   "metadata": {},
   "outputs": [],
   "source": [
    "import pandas as pd\n",
    "import numpy as np"
   ]
  },
  {
   "cell_type": "code",
   "execution_count": 2,
   "id": "eb36e833",
   "metadata": {},
   "outputs": [],
   "source": [
    "benign=pd.read_csv(r\"C:\\Users\\Kush\\Downloads\\archive (2)\\5.benign.csv\")\n",
    "g_c=pd.read_csv(r\"C:\\Users\\Kush\\Downloads\\archive (2)\\5.gafgyt.combo.csv\")\n",
    "g_j=pd.read_csv(r\"C:\\Users\\Kush\\Downloads\\archive (2)\\5.gafgyt.junk.csv\")\n",
    "g_s=pd.read_csv(r\"C:\\Users\\Kush\\Downloads\\archive (2)\\5.gafgyt.scan.csv\")\n",
    "g_t=pd.read_csv(r\"C:\\Users\\Kush\\Downloads\\archive (2)\\5.gafgyt.tcp.csv\")\n",
    "g_u=pd.read_csv(r\"C:\\Users\\Kush\\Downloads\\archive (2)\\5.gafgyt.udp.csv\")\n",
    "m_a=pd.read_csv(r\"C:\\Users\\Kush\\Downloads\\archive (2)\\5.mirai.ack.csv\")\n",
    "m_sc=pd.read_csv(r\"C:\\Users\\Kush\\Downloads\\archive (2)\\5.mirai.scan.csv\")\n",
    "m_sy=pd.read_csv(r\"C:\\Users\\Kush\\Downloads\\archive (2)\\5.mirai.syn.csv\")\n",
    "m_u=pd.read_csv(r\"C:\\Users\\Kush\\Downloads\\archive (2)\\5.mirai.udp.csv\")\n",
    "m_u_p=pd.read_csv(r\"C:\\Users\\Kush\\Downloads\\archive (2)\\5.mirai.udpplain.csv\")\n",
    "\n",
    "benign=benign.sample(frac=0.25,replace=False)\n",
    "g_c=g_c.sample(frac=0.25,replace=False)\n",
    "g_j=g_j.sample(frac=0.5,replace=False)\n",
    "g_s=g_s.sample(frac=0.5,replace=False)\n",
    "g_t=g_t.sample(frac=0.15,replace=False)\n",
    "g_u=g_u.sample(frac=0.15,replace=False)\n",
    "m_a=m_a.sample(frac=0.25,replace=False)\n",
    "m_sc=m_sc.sample(frac=0.15,replace=False)\n",
    "m_sy=m_sy.sample(frac=0.25,replace=False)\n",
    "m_u=m_u.sample(frac=0.1,replace=False)\n",
    "m_u_p=m_u_p.sample(frac=0.27,replace=False)\n",
    "\n",
    "benign['type']='benign'\n",
    "m_u['type']='mirai_udp'\n",
    "g_c['type']='gafgyt_combo'\n",
    "g_j['type']='gafgyt_junk'\n",
    "g_s['type']='gafgyt_scan'\n",
    "g_t['type']='gafgyt_tcp'\n",
    "g_u['type']='gafgyt_udp'\n",
    "m_a['type']='mirai_ack'\n",
    "m_sc['type']='mirai_scan'\n",
    "m_sy['type']='mirai_syn'\n",
    "m_u_p['type']='mirai_udpplain'\n",
    "\n",
    "data=pd.concat([benign,m_u,g_c,g_j,g_s,g_t,g_u,m_a,m_sc,m_sy,m_u_p],\n",
    "               axis=0, sort=False, ignore_index=True)"
   ]
  },
  {
   "cell_type": "code",
   "execution_count": 3,
   "id": "2b737395",
   "metadata": {},
   "outputs": [
    {
     "data": {
      "text/plain": [
       "type\n",
       "benign            15538\n",
       "gafgyt_combo      15345\n",
       "gafgyt_junk       15449\n",
       "gafgyt_scan       14648\n",
       "gafgyt_tcp        15676\n",
       "gafgyt_udp        15602\n",
       "mirai_ack         15138\n",
       "mirai_scan        14517\n",
       "mirai_syn         16436\n",
       "mirai_udp         15625\n",
       "mirai_udpplain    15304\n",
       "Name: type, dtype: int64"
      ]
     },
     "execution_count": 3,
     "metadata": {},
     "output_type": "execute_result"
    }
   ],
   "source": [
    "data.groupby('type')['type'].count()"
   ]
  },
  {
   "cell_type": "code",
   "execution_count": 4,
   "id": "28ad4a82",
   "metadata": {},
   "outputs": [
    {
     "name": "stdout",
     "output_type": "stream",
     "text": [
      "<class 'pandas.core.frame.DataFrame'>\n",
      "RangeIndex: 169278 entries, 0 to 169277\n",
      "Columns: 116 entries, MI_dir_L5_weight to type\n",
      "dtypes: float64(115), object(1)\n",
      "memory usage: 149.8+ MB\n"
     ]
    }
   ],
   "source": [
    "data.info()"
   ]
  },
  {
   "cell_type": "code",
   "execution_count": 5,
   "id": "215c5a6d",
   "metadata": {},
   "outputs": [
    {
     "data": {
      "text/plain": [
       "MI_dir_L5_weight         0\n",
       "MI_dir_L5_mean           0\n",
       "MI_dir_L5_variance       0\n",
       "MI_dir_L3_weight         0\n",
       "MI_dir_L3_mean           0\n",
       "                        ..\n",
       "HpHp_L0.01_magnitude     0\n",
       "HpHp_L0.01_radius        0\n",
       "HpHp_L0.01_covariance    0\n",
       "HpHp_L0.01_pcc           0\n",
       "type                     0\n",
       "Length: 116, dtype: int64"
      ]
     },
     "execution_count": 5,
     "metadata": {},
     "output_type": "execute_result"
    }
   ],
   "source": [
    "data.isna().sum()"
   ]
  },
  {
   "cell_type": "code",
   "execution_count": 6,
   "id": "f8e8babc",
   "metadata": {},
   "outputs": [],
   "source": [
    "from sklearn.model_selection import train_test_split"
   ]
  },
  {
   "cell_type": "code",
   "execution_count": 7,
   "id": "50240704",
   "metadata": {},
   "outputs": [],
   "source": [
    "#Independent features\n",
    "x= data.iloc[:,:-1]\n",
    "y= data.iloc[:,-1]\n",
    "x_train, x_test, y_train, y_test = train_test_split(x, y, test_size=0.2)"
   ]
  },
  {
   "cell_type": "code",
   "execution_count": 8,
   "id": "312084ff",
   "metadata": {},
   "outputs": [
    {
     "data": {
      "text/html": [
       "<div>\n",
       "<style scoped>\n",
       "    .dataframe tbody tr th:only-of-type {\n",
       "        vertical-align: middle;\n",
       "    }\n",
       "\n",
       "    .dataframe tbody tr th {\n",
       "        vertical-align: top;\n",
       "    }\n",
       "\n",
       "    .dataframe thead th {\n",
       "        text-align: right;\n",
       "    }\n",
       "</style>\n",
       "<table border=\"1\" class=\"dataframe\">\n",
       "  <thead>\n",
       "    <tr style=\"text-align: right;\">\n",
       "      <th></th>\n",
       "      <th>MI_dir_L5_weight</th>\n",
       "      <th>MI_dir_L5_mean</th>\n",
       "      <th>MI_dir_L5_variance</th>\n",
       "      <th>MI_dir_L3_weight</th>\n",
       "      <th>MI_dir_L3_mean</th>\n",
       "      <th>MI_dir_L3_variance</th>\n",
       "      <th>MI_dir_L1_weight</th>\n",
       "      <th>MI_dir_L1_mean</th>\n",
       "      <th>MI_dir_L1_variance</th>\n",
       "      <th>MI_dir_L0.1_weight</th>\n",
       "      <th>...</th>\n",
       "      <th>HpHp_L0.1_radius</th>\n",
       "      <th>HpHp_L0.1_covariance</th>\n",
       "      <th>HpHp_L0.1_pcc</th>\n",
       "      <th>HpHp_L0.01_weight</th>\n",
       "      <th>HpHp_L0.01_mean</th>\n",
       "      <th>HpHp_L0.01_std</th>\n",
       "      <th>HpHp_L0.01_magnitude</th>\n",
       "      <th>HpHp_L0.01_radius</th>\n",
       "      <th>HpHp_L0.01_covariance</th>\n",
       "      <th>HpHp_L0.01_pcc</th>\n",
       "    </tr>\n",
       "  </thead>\n",
       "  <tbody>\n",
       "    <tr>\n",
       "      <th>28716</th>\n",
       "      <td>83.411302</td>\n",
       "      <td>408.030580</td>\n",
       "      <td>50798.855566</td>\n",
       "      <td>160.290691</td>\n",
       "      <td>384.327509</td>\n",
       "      <td>55023.351671</td>\n",
       "      <td>448.472337</td>\n",
       "      <td>371.420862</td>\n",
       "      <td>56848.260955</td>\n",
       "      <td>3020.694212</td>\n",
       "      <td>...</td>\n",
       "      <td>0.000000e+00</td>\n",
       "      <td>0.0</td>\n",
       "      <td>0.0</td>\n",
       "      <td>1.000000</td>\n",
       "      <td>554.0</td>\n",
       "      <td>0.000000</td>\n",
       "      <td>554.0</td>\n",
       "      <td>0.000000e+00</td>\n",
       "      <td>0.0</td>\n",
       "      <td>0.0</td>\n",
       "    </tr>\n",
       "    <tr>\n",
       "      <th>136007</th>\n",
       "      <td>70.567792</td>\n",
       "      <td>60.038627</td>\n",
       "      <td>0.841666</td>\n",
       "      <td>90.505391</td>\n",
       "      <td>60.080591</td>\n",
       "      <td>1.697045</td>\n",
       "      <td>238.734906</td>\n",
       "      <td>60.134660</td>\n",
       "      <td>2.531065</td>\n",
       "      <td>2039.920032</td>\n",
       "      <td>...</td>\n",
       "      <td>0.000000e+00</td>\n",
       "      <td>0.0</td>\n",
       "      <td>0.0</td>\n",
       "      <td>1.000000</td>\n",
       "      <td>60.0</td>\n",
       "      <td>0.000000</td>\n",
       "      <td>60.0</td>\n",
       "      <td>0.000000e+00</td>\n",
       "      <td>0.0</td>\n",
       "      <td>0.0</td>\n",
       "    </tr>\n",
       "    <tr>\n",
       "      <th>159650</th>\n",
       "      <td>104.071577</td>\n",
       "      <td>422.890049</td>\n",
       "      <td>47578.474042</td>\n",
       "      <td>158.459817</td>\n",
       "      <td>379.124632</td>\n",
       "      <td>55806.527746</td>\n",
       "      <td>401.885924</td>\n",
       "      <td>331.565040</td>\n",
       "      <td>60397.363192</td>\n",
       "      <td>3285.804833</td>\n",
       "      <td>...</td>\n",
       "      <td>6.984919e-10</td>\n",
       "      <td>0.0</td>\n",
       "      <td>0.0</td>\n",
       "      <td>13121.974034</td>\n",
       "      <td>554.0</td>\n",
       "      <td>0.000047</td>\n",
       "      <td>554.0</td>\n",
       "      <td>2.211891e-09</td>\n",
       "      <td>0.0</td>\n",
       "      <td>0.0</td>\n",
       "    </tr>\n",
       "    <tr>\n",
       "      <th>36255</th>\n",
       "      <td>158.130239</td>\n",
       "      <td>74.006206</td>\n",
       "      <td>0.151575</td>\n",
       "      <td>269.727566</td>\n",
       "      <td>74.013976</td>\n",
       "      <td>0.362460</td>\n",
       "      <td>833.235700</td>\n",
       "      <td>74.025815</td>\n",
       "      <td>0.773583</td>\n",
       "      <td>7793.352602</td>\n",
       "      <td>...</td>\n",
       "      <td>0.000000e+00</td>\n",
       "      <td>0.0</td>\n",
       "      <td>0.0</td>\n",
       "      <td>1.000000</td>\n",
       "      <td>74.0</td>\n",
       "      <td>0.000000</td>\n",
       "      <td>74.0</td>\n",
       "      <td>0.000000e+00</td>\n",
       "      <td>0.0</td>\n",
       "      <td>0.0</td>\n",
       "    </tr>\n",
       "    <tr>\n",
       "      <th>147252</th>\n",
       "      <td>96.431327</td>\n",
       "      <td>64.878870</td>\n",
       "      <td>44.654165</td>\n",
       "      <td>141.308732</td>\n",
       "      <td>66.349602</td>\n",
       "      <td>48.853285</td>\n",
       "      <td>347.829135</td>\n",
       "      <td>67.438381</td>\n",
       "      <td>49.117076</td>\n",
       "      <td>3286.265587</td>\n",
       "      <td>...</td>\n",
       "      <td>0.000000e+00</td>\n",
       "      <td>0.0</td>\n",
       "      <td>0.0</td>\n",
       "      <td>1.000000</td>\n",
       "      <td>74.0</td>\n",
       "      <td>0.000000</td>\n",
       "      <td>74.0</td>\n",
       "      <td>0.000000e+00</td>\n",
       "      <td>0.0</td>\n",
       "      <td>0.0</td>\n",
       "    </tr>\n",
       "  </tbody>\n",
       "</table>\n",
       "<p>5 rows × 115 columns</p>\n",
       "</div>"
      ],
      "text/plain": [
       "        MI_dir_L5_weight  MI_dir_L5_mean  MI_dir_L5_variance  \\\n",
       "28716          83.411302      408.030580        50798.855566   \n",
       "136007         70.567792       60.038627            0.841666   \n",
       "159650        104.071577      422.890049        47578.474042   \n",
       "36255         158.130239       74.006206            0.151575   \n",
       "147252         96.431327       64.878870           44.654165   \n",
       "\n",
       "        MI_dir_L3_weight  MI_dir_L3_mean  MI_dir_L3_variance  \\\n",
       "28716         160.290691      384.327509        55023.351671   \n",
       "136007         90.505391       60.080591            1.697045   \n",
       "159650        158.459817      379.124632        55806.527746   \n",
       "36255         269.727566       74.013976            0.362460   \n",
       "147252        141.308732       66.349602           48.853285   \n",
       "\n",
       "        MI_dir_L1_weight  MI_dir_L1_mean  MI_dir_L1_variance  \\\n",
       "28716         448.472337      371.420862        56848.260955   \n",
       "136007        238.734906       60.134660            2.531065   \n",
       "159650        401.885924      331.565040        60397.363192   \n",
       "36255         833.235700       74.025815            0.773583   \n",
       "147252        347.829135       67.438381           49.117076   \n",
       "\n",
       "        MI_dir_L0.1_weight  ...  HpHp_L0.1_radius  HpHp_L0.1_covariance  \\\n",
       "28716          3020.694212  ...      0.000000e+00                   0.0   \n",
       "136007         2039.920032  ...      0.000000e+00                   0.0   \n",
       "159650         3285.804833  ...      6.984919e-10                   0.0   \n",
       "36255          7793.352602  ...      0.000000e+00                   0.0   \n",
       "147252         3286.265587  ...      0.000000e+00                   0.0   \n",
       "\n",
       "        HpHp_L0.1_pcc  HpHp_L0.01_weight  HpHp_L0.01_mean  HpHp_L0.01_std  \\\n",
       "28716             0.0           1.000000            554.0        0.000000   \n",
       "136007            0.0           1.000000             60.0        0.000000   \n",
       "159650            0.0       13121.974034            554.0        0.000047   \n",
       "36255             0.0           1.000000             74.0        0.000000   \n",
       "147252            0.0           1.000000             74.0        0.000000   \n",
       "\n",
       "        HpHp_L0.01_magnitude  HpHp_L0.01_radius  HpHp_L0.01_covariance  \\\n",
       "28716                  554.0       0.000000e+00                    0.0   \n",
       "136007                  60.0       0.000000e+00                    0.0   \n",
       "159650                 554.0       2.211891e-09                    0.0   \n",
       "36255                   74.0       0.000000e+00                    0.0   \n",
       "147252                  74.0       0.000000e+00                    0.0   \n",
       "\n",
       "        HpHp_L0.01_pcc  \n",
       "28716              0.0  \n",
       "136007             0.0  \n",
       "159650             0.0  \n",
       "36255              0.0  \n",
       "147252             0.0  \n",
       "\n",
       "[5 rows x 115 columns]"
      ]
     },
     "execution_count": 8,
     "metadata": {},
     "output_type": "execute_result"
    }
   ],
   "source": [
    "x_train.head()"
   ]
  },
  {
   "cell_type": "code",
   "execution_count": 9,
   "id": "62968b68",
   "metadata": {},
   "outputs": [
    {
     "data": {
      "text/plain": [
       "28716          mirai_udp\n",
       "136007        mirai_scan\n",
       "159650    mirai_udpplain\n",
       "36255       gafgyt_combo\n",
       "147252         mirai_syn\n",
       "Name: type, dtype: object"
      ]
     },
     "execution_count": 9,
     "metadata": {},
     "output_type": "execute_result"
    }
   ],
   "source": [
    "y_train.head()"
   ]
  },
  {
   "cell_type": "code",
   "execution_count": 14,
   "id": "ba329621",
   "metadata": {},
   "outputs": [],
   "source": [
    "#Preprunning\n",
    "parameters= {\n",
    "    'criterion' : ['gini', 'entrophy', 'log_loss'],\n",
    "    'splitter' : ['best','random'],\n",
    "    'max_depth' : [1,2,3,4,5,6,7,8,9,10,11,12,13,14,15],\n",
    "    'max_features' : ['auto', 'sqrt', 'log2']\n",
    "    \n",
    "}"
   ]
  },
  {
   "cell_type": "code",
   "execution_count": 15,
   "id": "026c5d55",
   "metadata": {},
   "outputs": [],
   "source": [
    "from sklearn.tree import DecisionTreeClassifier\n",
    "from sklearn.model_selection import GridSearchCV"
   ]
  },
  {
   "cell_type": "code",
   "execution_count": 16,
   "id": "bf9c6768",
   "metadata": {},
   "outputs": [],
   "source": [
    "treemodel= DecisionTreeClassifier()\n",
    "cv= GridSearchCV(treemodel,param_grid= parameters, cv= 100, scoring= 'accuracy')"
   ]
  },
  {
   "cell_type": "code",
   "execution_count": 17,
   "id": "f2b7b768",
   "metadata": {},
   "outputs": [
    {
     "name": "stderr",
     "output_type": "stream",
     "text": [
      "C:\\Users\\Kush\\anaconda3\\lib\\site-packages\\sklearn\\model_selection\\_validation.py:372: FitFailedWarning: \n",
      "18000 fits failed out of a total of 27000.\n",
      "The score on these train-test partitions for these parameters will be set to nan.\n",
      "If these failures are not expected, you can try to debug them by setting error_score='raise'.\n",
      "\n",
      "Below are more details about the failures:\n",
      "--------------------------------------------------------------------------------\n",
      "9000 fits failed with the following error:\n",
      "Traceback (most recent call last):\n",
      "  File \"C:\\Users\\Kush\\anaconda3\\lib\\site-packages\\sklearn\\model_selection\\_validation.py\", line 680, in _fit_and_score\n",
      "    estimator.fit(X_train, y_train, **fit_params)\n",
      "  File \"C:\\Users\\Kush\\anaconda3\\lib\\site-packages\\sklearn\\tree\\_classes.py\", line 937, in fit\n",
      "    super().fit(\n",
      "  File \"C:\\Users\\Kush\\anaconda3\\lib\\site-packages\\sklearn\\tree\\_classes.py\", line 352, in fit\n",
      "    criterion = CRITERIA_CLF[self.criterion](\n",
      "KeyError: 'entrophy'\n",
      "\n",
      "--------------------------------------------------------------------------------\n",
      "9000 fits failed with the following error:\n",
      "Traceback (most recent call last):\n",
      "  File \"C:\\Users\\Kush\\anaconda3\\lib\\site-packages\\sklearn\\model_selection\\_validation.py\", line 680, in _fit_and_score\n",
      "    estimator.fit(X_train, y_train, **fit_params)\n",
      "  File \"C:\\Users\\Kush\\anaconda3\\lib\\site-packages\\sklearn\\tree\\_classes.py\", line 937, in fit\n",
      "    super().fit(\n",
      "  File \"C:\\Users\\Kush\\anaconda3\\lib\\site-packages\\sklearn\\tree\\_classes.py\", line 352, in fit\n",
      "    criterion = CRITERIA_CLF[self.criterion](\n",
      "KeyError: 'log_loss'\n",
      "\n",
      "  warnings.warn(some_fits_failed_message, FitFailedWarning)\n",
      "C:\\Users\\Kush\\anaconda3\\lib\\site-packages\\sklearn\\model_selection\\_search.py:969: UserWarning: One or more of the test scores are non-finite: [0.18937845 0.18429785 0.18940055 0.17961663 0.18814534 0.17322842\n",
      " 0.31228999 0.29187408 0.3223473  0.28693231 0.30736653 0.26538709\n",
      " 0.48309012 0.41053722 0.48217505 0.41068057 0.4520888  0.35367852\n",
      " 0.65532193 0.5364882  0.65819654 0.5216132  0.6142807  0.44221058\n",
      " 0.83555695 0.62194506 0.84216155 0.61288466 0.79169271 0.54234212\n",
      " 0.92066414 0.68998329 0.92732219 0.69033106 0.88397129 0.60339086\n",
      " 0.95341965 0.76629882 0.9544375  0.76049435 0.93168617 0.64833479\n",
      " 0.96608366 0.79915579 0.9684618  0.81501601 0.95523721 0.71777543\n",
      " 0.97667279 0.83708663 0.97685727 0.83528583 0.96648972 0.77480179\n",
      " 0.98273536 0.88522649 0.98413107 0.86568585 0.9786956  0.81518634\n",
      " 0.98620596 0.89907752 0.98548961 0.90027159 0.98313386 0.84861128\n",
      " 0.98890876 0.93348889 0.98924072 0.92130295 0.98683396 0.8680929\n",
      " 0.9897725  0.94088938 0.99025256 0.93008552 0.9880595  0.88471473\n",
      " 0.99167039 0.9484099  0.9911609  0.95333934 0.99035601 0.91241397\n",
      " 0.9925787  0.96509417 0.99277075 0.96634201 0.99113128 0.92482593\n",
      "        nan        nan        nan        nan        nan        nan\n",
      "        nan        nan        nan        nan        nan        nan\n",
      "        nan        nan        nan        nan        nan        nan\n",
      "        nan        nan        nan        nan        nan        nan\n",
      "        nan        nan        nan        nan        nan        nan\n",
      "        nan        nan        nan        nan        nan        nan\n",
      "        nan        nan        nan        nan        nan        nan\n",
      "        nan        nan        nan        nan        nan        nan\n",
      "        nan        nan        nan        nan        nan        nan\n",
      "        nan        nan        nan        nan        nan        nan\n",
      "        nan        nan        nan        nan        nan        nan\n",
      "        nan        nan        nan        nan        nan        nan\n",
      "        nan        nan        nan        nan        nan        nan\n",
      "        nan        nan        nan        nan        nan        nan\n",
      "        nan        nan        nan        nan        nan        nan\n",
      "        nan        nan        nan        nan        nan        nan\n",
      "        nan        nan        nan        nan        nan        nan\n",
      "        nan        nan        nan        nan        nan        nan\n",
      "        nan        nan        nan        nan        nan        nan\n",
      "        nan        nan        nan        nan        nan        nan\n",
      "        nan        nan        nan        nan        nan        nan\n",
      "        nan        nan        nan        nan        nan        nan\n",
      "        nan        nan        nan        nan        nan        nan\n",
      "        nan        nan        nan        nan        nan        nan\n",
      "        nan        nan        nan        nan        nan        nan\n",
      "        nan        nan        nan        nan        nan        nan\n",
      "        nan        nan        nan        nan        nan        nan\n",
      "        nan        nan        nan        nan        nan        nan\n",
      "        nan        nan        nan        nan        nan        nan\n",
      "        nan        nan        nan        nan        nan        nan]\n",
      "  warnings.warn(\n"
     ]
    },
    {
     "data": {
      "text/plain": [
       "GridSearchCV(cv=100, estimator=DecisionTreeClassifier(),\n",
       "             param_grid={'criterion': ['gini', 'entrophy', 'log_loss'],\n",
       "                         'max_depth': [1, 2, 3, 4, 5, 6, 7, 8, 9, 10, 11, 12,\n",
       "                                       13, 14, 15],\n",
       "                         'max_features': ['auto', 'sqrt', 'log2'],\n",
       "                         'splitter': ['best', 'random']},\n",
       "             scoring='accuracy')"
      ]
     },
     "execution_count": 17,
     "metadata": {},
     "output_type": "execute_result"
    }
   ],
   "source": [
    "cv.fit(x_train,y_train)"
   ]
  },
  {
   "cell_type": "code",
   "execution_count": 18,
   "id": "fb183c1f",
   "metadata": {},
   "outputs": [
    {
     "data": {
      "text/plain": [
       "{'criterion': 'gini',\n",
       " 'max_depth': 15,\n",
       " 'max_features': 'sqrt',\n",
       " 'splitter': 'best'}"
      ]
     },
     "execution_count": 18,
     "metadata": {},
     "output_type": "execute_result"
    }
   ],
   "source": [
    "cv.best_params_"
   ]
  },
  {
   "cell_type": "code",
   "execution_count": 21,
   "id": "6a828e34",
   "metadata": {},
   "outputs": [],
   "source": [
    "y_pred= cv.predict(x_test)"
   ]
  },
  {
   "cell_type": "code",
   "execution_count": 22,
   "id": "908838b8",
   "metadata": {},
   "outputs": [],
   "source": [
    "from sklearn.metrics import accuracy_score, classification_report, confusion_matrix, roc_curve, auc"
   ]
  },
  {
   "cell_type": "code",
   "execution_count": 23,
   "id": "37414df0",
   "metadata": {},
   "outputs": [],
   "source": [
    "score= accuracy_score(y_pred, y_test)"
   ]
  },
  {
   "cell_type": "raw",
   "id": "d7d19ade",
   "metadata": {},
   "source": []
  },
  {
   "cell_type": "code",
   "execution_count": 24,
   "id": "dd50b332",
   "metadata": {},
   "outputs": [
    {
     "data": {
      "text/plain": [
       "0.9904891304347826"
      ]
     },
     "execution_count": 24,
     "metadata": {},
     "output_type": "execute_result"
    }
   ],
   "source": [
    "score"
   ]
  },
  {
   "cell_type": "code",
   "execution_count": 25,
   "id": "e0d2b060",
   "metadata": {},
   "outputs": [
    {
     "data": {
      "text/plain": [
       "'                precision    recall  f1-score   support\\n\\n        benign       1.00      1.00      1.00      3125\\n  gafgyt_combo       0.96      1.00      0.98      2928\\n   gafgyt_junk       1.00      0.97      0.98      3110\\n   gafgyt_scan       1.00      1.00      1.00      2890\\n    gafgyt_tcp       0.94      1.00      0.97      2888\\n    gafgyt_udp       1.00      0.94      0.97      3423\\n     mirai_ack       1.00      1.00      1.00      3083\\n    mirai_scan       1.00      1.00      1.00      2870\\n     mirai_syn       1.00      1.00      1.00      3314\\n     mirai_udp       1.00      1.00      1.00      3131\\nmirai_udpplain       1.00      1.00      1.00      3094\\n\\n      accuracy                           0.99     33856\\n     macro avg       0.99      0.99      0.99     33856\\n  weighted avg       0.99      0.99      0.99     33856\\n'"
      ]
     },
     "execution_count": 25,
     "metadata": {},
     "output_type": "execute_result"
    }
   ],
   "source": [
    "classification_report(y_pred, y_test)"
   ]
  },
  {
   "cell_type": "code",
   "execution_count": 26,
   "id": "4d33ccea",
   "metadata": {},
   "outputs": [
    {
     "data": {
      "text/plain": [
       "array([[3125,    0,    0,    0,    0,    0,    0,    0,    0,    0,    0],\n",
       "       [   0, 2916,   12,    0,    0,    0,    0,    0,    0,    0,    0],\n",
       "       [   0,  108, 3002,    0,    0,    0,    0,    0,    0,    0,    0],\n",
       "       [   1,    1,    1, 2887,    0,    0,    0,    0,    0,    0,    0],\n",
       "       [   0,    0,    1,    0, 2885,    2,    0,    0,    0,    0,    0],\n",
       "       [   0,    0,    0,    0,  193, 3230,    0,    0,    0,    0,    0],\n",
       "       [   0,    0,    0,    0,    0,    0, 3081,    0,    0,    0,    2],\n",
       "       [   0,    0,    0,    0,    0,    0,    0, 2870,    0,    0,    0],\n",
       "       [   0,    0,    0,    0,    0,    0,    0,    0, 3314,    0,    0],\n",
       "       [   0,    0,    0,    0,    0,    0,    0,    0,    0, 3131,    0],\n",
       "       [   1,    0,    0,    0,    0,    0,    0,    0,    0,    0, 3093]],\n",
       "      dtype=int64)"
      ]
     },
     "execution_count": 26,
     "metadata": {},
     "output_type": "execute_result"
    }
   ],
   "source": [
    "confusion_matrix(y_pred, y_test)"
   ]
  },
  {
   "cell_type": "code",
   "execution_count": 27,
   "id": "62e04610",
   "metadata": {},
   "outputs": [
    {
     "data": {
      "image/png": "[encoded data removed]",
      "text/plain": [
       "<Figure size 640x480 with 1 Axes>"
      ]
     },
     "metadata": {},
     "output_type": "display_data"
    }
   ],
   "source": [
    "from sklearn.preprocessing import label_binarize\n",
    "import matplotlib.pyplot as plt  \n",
    "\n",
    "y_test_binarize= label_binarize(y_test, classes= np.unique(y_test))\n",
    "y_pred_binarize= label_binarize(y_pred, classes= np.unique(y_pred))\n",
    "\n",
    "#ROC Curve\n",
    "fpr= {}\n",
    "tpr= {}\n",
    "thresh= {}\n",
    "roc_auc= dict()\n",
    "classes= np.unique(y_test)\n",
    "n_class= classes.shape[0]\n",
    "\n",
    "for i in range(n_class):\n",
    "    fpr[i], tpr[i], thresh[i] = roc_curve(y_test_binarize[:,i], y_pred_binarize[:,i])\n",
    "    roc_auc[i]= auc(fpr[i], tpr[i])\n",
    "    \n",
    "    #plotting\n",
    "    plt.plot(fpr[i], tpr[i], linestyle= '--', label= '%s vs Rest (AUC=%0.2f)'% (classes[i], roc_auc[i]))\n",
    "    \n",
    "plt.plot([0,1], [0,1], 'b--')\n",
    "plt.xlim([0,1])\n",
    "plt.ylim([0,1.05])\n",
    "plt.title('Multiclass ROC Curve')\n",
    "plt.xlabel('False Positive Rate')\n",
    "plt.ylabel('True Positve Rate')\n",
    "plt.legend(loc= 'lower right')\n",
    "plt.show()"
   ]
  },
  {
   "cell_type": "code",
   "execution_count": null,
   "id": "eca4567a",
   "metadata": {},
   "outputs": [],
   "source": []
  }
 ],
 "metadata": {
  "kernelspec": {
   "display_name": "Python 3 (ipykernel)",
   "language": "python",
   "name": "python3"
  },
  "language_info": {
   "codemirror_mode": {
    "name": "ipython",
    "version": 3
   },
   "file_extension": ".py",
   "mimetype": "text/x-python",
   "name": "python",
   "nbconvert_exporter": "python",
   "pygments_lexer": "ipython3",
   "version": "3.9.13"
  }
 },
 "nbformat": 4,
 "nbformat_minor": 5
}
